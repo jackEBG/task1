{
 "cells": [
  {
   "cell_type": "code",
   "execution_count": null,
   "metadata": {},
   "outputs": [],
   "source": [
    "import pandas as pd\n",
    "import matplotlib.pyplot as plt \n",
    "import plotly.express as px\n",
    "import yfinance as yf\n",
    "\n",
    "data = pd.read_csv(r'C:\\Users\\Admin.DESKTOP-M4R2VLU\\Documents\\week1L\\data\\raw_analyst_ratings.csv')\n",
    "data.head()\n",
    "len(data)"
   ]
  },
  {
   "cell_type": "code",
   "execution_count": null,
   "metadata": {},
   "outputs": [],
   "source": [
    "#Data Processing\n",
    "# Convert 'date' from string to datetime object and filter out invalid dates\n",
    "data['date'] = pd.to_datetime(data['date'], errors='coerce')\n",
    "data = data.dropna(subset=['date'])\n",
    " # Verify the number of rows in the dataset after removing entries with invalid dates\n",
    "data.head()"
   ]
  },
  {
   "cell_type": "code",
   "execution_count": null,
   "metadata": {},
   "outputs": [],
   "source": [
    "\n",
    "# 2. Count the number of articles per publisher\n",
    "articles_per_publisher = data['publisher'].value_counts()\n",
    "print(\"\\nNumber of Articles Per Publisher:\")\n",
    "print(articles_per_publisher)"
   ]
  },
  {
   "cell_type": "code",
   "execution_count": null,
   "metadata": {},
   "outputs": [],
   "source": [
    "data.describe()"
   ]
  },
  {
   "cell_type": "code",
   "execution_count": null,
   "metadata": {},
   "outputs": [],
   "source": [
    "# 3. Analyze the publication dates to see trends over time\n",
    "data['date'] = data['date'].dt.tz_localize(None)\n",
    "print(data['date'].head())\n"
   ]
  },
  {
   "cell_type": "code",
   "execution_count": null,
   "metadata": {},
   "outputs": [],
   "source": [
    "\n",
    "# Extract day of the week\n",
    "data['day_of_week'] = data['date'].dt.day_name()\n",
    "print(data[['date', 'day_of_week']].head())\n",
    "#This code extracts the month-year period from the datetime column, removing any timezone information\n",
    "data['month_year'] = data['date'].dt.to_period('M')\n",
    "print(data[['date', 'month_year']].head())\n",
    "# Extract day of the week and month-year for analysis\n",
    "data['day_of_week'] = data['date'].dt.day_name()\n",
    "data['month_year'] = data['date'].dt.to_period('M')\n",
    "print(data[['date', 'day_of_week', 'month_year']].head())\n",
    "# This code calculates the total number of articles published on each day of the week.\n",
    "articles_per_day = data['day_of_week'].value_counts()\n",
    "print(\"\\nNumber of Articles Published Per Day of the Week:\")\n",
    "print(articles_per_day)\n",
    "\n",
    "# Calculate the number of articles published for each month and year\n",
    "articles_per_month_year = data['month_year'].value_counts().sort_index()\n",
    "print(\"\\nNumber of Articles Published Per Month-Year:\")\n",
    "print(articles_per_month_year)"
   ]
  },
  {
   "cell_type": "code",
   "execution_count": null,
   "metadata": {},
   "outputs": [],
   "source": [
    "import matplotlib.pyplot as plt\n",
    "\n",
    "# This code converts the 'month_year' index to a datetime format to enable accurate time series plotting.\n",
    "articles_per_month_year.index = articles_per_month_year.index.to_timestamp()\n",
    "\n",
    "# This code generates a time series line plot to visualize the number of articles published each month\n",
    "\n",
    "plt.figure(figsize=(12, 6))\n",
    "plt.plot(articles_per_month_year.index, articles_per_month_year.values, marker='o', linestyle='-', color='skyblue')\n",
    "plt.title('Number of Articles Published Over Time (Month-Year)', fontsize=14)\n",
    "plt.xlabel('Date', fontsize=12)\n",
    "plt.ylabel('Number of Articles', fontsize=12)\n",
    "plt.grid(True)\n",
    "plt.xticks(rotation=45)\n",
    "plt.tight_layout()\n",
    "\n",
    "# Save the plot \n",
    "plt.savefig('articles_published_over_time.png', format='png', dpi=300)  \n",
    "\n",
    "# Show the plot\n",
    "plt.show()"
   ]
  }
 ],
 "metadata": {
  "language_info": {
   "name": "python"
  }
 },
 "nbformat": 4,
 "nbformat_minor": 2
}
