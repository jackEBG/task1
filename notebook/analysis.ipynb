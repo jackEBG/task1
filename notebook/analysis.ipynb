{
 "cells": [
  {
   "cell_type": "code",
   "execution_count": 2,
   "metadata": {},
   "outputs": [
    {
     "data": {
      "text/plain": [
       "1407328"
      ]
     },
     "execution_count": 2,
     "metadata": {},
     "output_type": "execute_result"
    }
   ],
   "source": [
    "import pandas as pd\n",
    "import matplotlib.pyplot as plt \n",
    "import plotly.express as px\n",
    "import yfinance as yf\n",
    "\n",
    "data = pd.read_csv(r'C:\\Users\\Admin.DESKTOP-M4R2VLU\\Documents\\week1L\\data\\raw_analyst_ratings.csv')\n",
    "data.head()\n",
    "len(data)"
   ]
  },
  {
   "cell_type": "code",
   "execution_count": 3,
   "metadata": {},
   "outputs": [
    {
     "data": {
      "text/html": [
       "<div>\n",
       "<style scoped>\n",
       "    .dataframe tbody tr th:only-of-type {\n",
       "        vertical-align: middle;\n",
       "    }\n",
       "\n",
       "    .dataframe tbody tr th {\n",
       "        vertical-align: top;\n",
       "    }\n",
       "\n",
       "    .dataframe thead th {\n",
       "        text-align: right;\n",
       "    }\n",
       "</style>\n",
       "<table border=\"1\" class=\"dataframe\">\n",
       "  <thead>\n",
       "    <tr style=\"text-align: right;\">\n",
       "      <th></th>\n",
       "      <th>Unnamed: 0</th>\n",
       "      <th>headline</th>\n",
       "      <th>url</th>\n",
       "      <th>publisher</th>\n",
       "      <th>date</th>\n",
       "      <th>stock</th>\n",
       "    </tr>\n",
       "  </thead>\n",
       "  <tbody>\n",
       "    <tr>\n",
       "      <th>0</th>\n",
       "      <td>0</td>\n",
       "      <td>Stocks That Hit 52-Week Highs On Friday</td>\n",
       "      <td>https://www.benzinga.com/news/20/06/16190091/s...</td>\n",
       "      <td>Benzinga Insights</td>\n",
       "      <td>2020-06-05 10:30:54-04:00</td>\n",
       "      <td>A</td>\n",
       "    </tr>\n",
       "    <tr>\n",
       "      <th>1</th>\n",
       "      <td>1</td>\n",
       "      <td>Stocks That Hit 52-Week Highs On Wednesday</td>\n",
       "      <td>https://www.benzinga.com/news/20/06/16170189/s...</td>\n",
       "      <td>Benzinga Insights</td>\n",
       "      <td>2020-06-03 10:45:20-04:00</td>\n",
       "      <td>A</td>\n",
       "    </tr>\n",
       "    <tr>\n",
       "      <th>2</th>\n",
       "      <td>2</td>\n",
       "      <td>71 Biggest Movers From Friday</td>\n",
       "      <td>https://www.benzinga.com/news/20/05/16103463/7...</td>\n",
       "      <td>Lisa Levin</td>\n",
       "      <td>2020-05-26 04:30:07-04:00</td>\n",
       "      <td>A</td>\n",
       "    </tr>\n",
       "    <tr>\n",
       "      <th>3</th>\n",
       "      <td>3</td>\n",
       "      <td>46 Stocks Moving In Friday's Mid-Day Session</td>\n",
       "      <td>https://www.benzinga.com/news/20/05/16095921/4...</td>\n",
       "      <td>Lisa Levin</td>\n",
       "      <td>2020-05-22 12:45:06-04:00</td>\n",
       "      <td>A</td>\n",
       "    </tr>\n",
       "    <tr>\n",
       "      <th>4</th>\n",
       "      <td>4</td>\n",
       "      <td>B of A Securities Maintains Neutral on Agilent...</td>\n",
       "      <td>https://www.benzinga.com/news/20/05/16095304/b...</td>\n",
       "      <td>Vick Meyer</td>\n",
       "      <td>2020-05-22 11:38:59-04:00</td>\n",
       "      <td>A</td>\n",
       "    </tr>\n",
       "  </tbody>\n",
       "</table>\n",
       "</div>"
      ],
      "text/plain": [
       "   Unnamed: 0                                           headline  \\\n",
       "0           0            Stocks That Hit 52-Week Highs On Friday   \n",
       "1           1         Stocks That Hit 52-Week Highs On Wednesday   \n",
       "2           2                      71 Biggest Movers From Friday   \n",
       "3           3       46 Stocks Moving In Friday's Mid-Day Session   \n",
       "4           4  B of A Securities Maintains Neutral on Agilent...   \n",
       "\n",
       "                                                 url          publisher  \\\n",
       "0  https://www.benzinga.com/news/20/06/16190091/s...  Benzinga Insights   \n",
       "1  https://www.benzinga.com/news/20/06/16170189/s...  Benzinga Insights   \n",
       "2  https://www.benzinga.com/news/20/05/16103463/7...         Lisa Levin   \n",
       "3  https://www.benzinga.com/news/20/05/16095921/4...         Lisa Levin   \n",
       "4  https://www.benzinga.com/news/20/05/16095304/b...         Vick Meyer   \n",
       "\n",
       "                       date stock  \n",
       "0 2020-06-05 10:30:54-04:00     A  \n",
       "1 2020-06-03 10:45:20-04:00     A  \n",
       "2 2020-05-26 04:30:07-04:00     A  \n",
       "3 2020-05-22 12:45:06-04:00     A  \n",
       "4 2020-05-22 11:38:59-04:00     A  "
      ]
     },
     "execution_count": 3,
     "metadata": {},
     "output_type": "execute_result"
    }
   ],
   "source": [
    "#Data Processing\n",
    "# Convert 'date' from string to datetime object and filter out invalid dates\n",
    "data['date'] = pd.to_datetime(data['date'], errors='coerce')\n",
    "data = data.dropna(subset=['date'])\n",
    " # Verify the number of rows in the dataset after removing entries with invalid dates\n",
    "data.head()"
   ]
  },
  {
   "cell_type": "code",
   "execution_count": 4,
   "metadata": {},
   "outputs": [
    {
     "name": "stdout",
     "output_type": "stream",
     "text": [
      "\n",
      "Number of Articles Per Publisher:\n",
      "publisher\n",
      "Benzinga Newsdesk    14750\n",
      "Lisa Levin           12408\n",
      "ETF Professor         4362\n",
      "Paul Quintaro         4212\n",
      "Benzinga Newsdesk     3177\n",
      "                     ...  \n",
      "Jennifer Lynn            1\n",
      "Tatro Capital            1\n",
      "webmaster                1\n",
      "Thomas Stein             1\n",
      "Usman Rafi               1\n",
      "Name: count, Length: 225, dtype: int64\n"
     ]
    }
   ],
   "source": [
    "\n",
    "# 2. Count the number of articles per publisher\n",
    "articles_per_publisher = data['publisher'].value_counts()\n",
    "print(\"\\nNumber of Articles Per Publisher:\")\n",
    "print(articles_per_publisher)"
   ]
  },
  {
   "cell_type": "code",
   "execution_count": 5,
   "metadata": {},
   "outputs": [
    {
     "data": {
      "text/html": [
       "<div>\n",
       "<style scoped>\n",
       "    .dataframe tbody tr th:only-of-type {\n",
       "        vertical-align: middle;\n",
       "    }\n",
       "\n",
       "    .dataframe tbody tr th {\n",
       "        vertical-align: top;\n",
       "    }\n",
       "\n",
       "    .dataframe thead th {\n",
       "        text-align: right;\n",
       "    }\n",
       "</style>\n",
       "<table border=\"1\" class=\"dataframe\">\n",
       "  <thead>\n",
       "    <tr style=\"text-align: right;\">\n",
       "      <th></th>\n",
       "      <th>Unnamed: 0</th>\n",
       "    </tr>\n",
       "  </thead>\n",
       "  <tbody>\n",
       "    <tr>\n",
       "      <th>count</th>\n",
       "      <td>5.598700e+04</td>\n",
       "    </tr>\n",
       "    <tr>\n",
       "      <th>mean</th>\n",
       "      <td>7.133525e+05</td>\n",
       "    </tr>\n",
       "    <tr>\n",
       "      <th>std</th>\n",
       "      <td>4.023792e+05</td>\n",
       "    </tr>\n",
       "    <tr>\n",
       "      <th>min</th>\n",
       "      <td>0.000000e+00</td>\n",
       "    </tr>\n",
       "    <tr>\n",
       "      <th>25%</th>\n",
       "      <td>3.718360e+05</td>\n",
       "    </tr>\n",
       "    <tr>\n",
       "      <th>50%</th>\n",
       "      <td>7.124110e+05</td>\n",
       "    </tr>\n",
       "    <tr>\n",
       "      <th>75%</th>\n",
       "      <td>1.068692e+06</td>\n",
       "    </tr>\n",
       "    <tr>\n",
       "      <th>max</th>\n",
       "      <td>1.413791e+06</td>\n",
       "    </tr>\n",
       "  </tbody>\n",
       "</table>\n",
       "</div>"
      ],
      "text/plain": [
       "         Unnamed: 0\n",
       "count  5.598700e+04\n",
       "mean   7.133525e+05\n",
       "std    4.023792e+05\n",
       "min    0.000000e+00\n",
       "25%    3.718360e+05\n",
       "50%    7.124110e+05\n",
       "75%    1.068692e+06\n",
       "max    1.413791e+06"
      ]
     },
     "execution_count": 5,
     "metadata": {},
     "output_type": "execute_result"
    }
   ],
   "source": [
    "data.describe()"
   ]
  },
  {
   "cell_type": "code",
   "execution_count": 6,
   "metadata": {},
   "outputs": [
    {
     "name": "stdout",
     "output_type": "stream",
     "text": [
      "0   2020-06-05 10:30:54\n",
      "1   2020-06-03 10:45:20\n",
      "2   2020-05-26 04:30:07\n",
      "3   2020-05-22 12:45:06\n",
      "4   2020-05-22 11:38:59\n",
      "Name: date, dtype: datetime64[ns]\n"
     ]
    }
   ],
   "source": [
    "# 3. Analyze the publication dates to see trends over time\n",
    "data['date'] = data['date'].dt.tz_localize(None)\n",
    "print(data['date'].head())\n"
   ]
  },
  {
   "cell_type": "code",
   "execution_count": 7,
   "metadata": {},
   "outputs": [
    {
     "name": "stdout",
     "output_type": "stream",
     "text": [
      "                 date day_of_week\n",
      "0 2020-06-05 10:30:54      Friday\n",
      "1 2020-06-03 10:45:20   Wednesday\n",
      "2 2020-05-26 04:30:07     Tuesday\n",
      "3 2020-05-22 12:45:06      Friday\n",
      "4 2020-05-22 11:38:59      Friday\n",
      "                 date month_year\n",
      "0 2020-06-05 10:30:54    2020-06\n",
      "1 2020-06-03 10:45:20    2020-06\n",
      "2 2020-05-26 04:30:07    2020-05\n",
      "3 2020-05-22 12:45:06    2020-05\n",
      "4 2020-05-22 11:38:59    2020-05\n",
      "                 date day_of_week month_year\n",
      "0 2020-06-05 10:30:54      Friday    2020-06\n",
      "1 2020-06-03 10:45:20   Wednesday    2020-06\n",
      "2 2020-05-26 04:30:07     Tuesday    2020-05\n",
      "3 2020-05-22 12:45:06      Friday    2020-05\n",
      "4 2020-05-22 11:38:59      Friday    2020-05\n",
      "\n",
      "Number of Articles Published Per Day of the Week:\n",
      "day_of_week\n",
      "Thursday     12688\n",
      "Wednesday    11891\n",
      "Tuesday      11002\n",
      "Monday       10322\n",
      "Friday        9381\n",
      "Sunday         436\n",
      "Saturday       267\n",
      "Name: count, dtype: int64\n",
      "\n",
      "Number of Articles Published Per Month-Year:\n",
      "month_year\n",
      "2011-04       6\n",
      "2011-05      78\n",
      "2011-06      96\n",
      "2011-07     137\n",
      "2011-08     149\n",
      "           ... \n",
      "2020-02    2356\n",
      "2020-03    4680\n",
      "2020-04    4616\n",
      "2020-05    9333\n",
      "2020-06    5990\n",
      "Freq: M, Name: count, Length: 111, dtype: int64\n"
     ]
    }
   ],
   "source": [
    "\n",
    "# Extract day of the week\n",
    "data['day_of_week'] = data['date'].dt.day_name()\n",
    "print(data[['date', 'day_of_week']].head())\n",
    "#This code extracts the month-year period from the datetime column, removing any timezone information\n",
    "data['month_year'] = data['date'].dt.to_period('M')\n",
    "print(data[['date', 'month_year']].head())\n",
    "# Extract day of the week and month-year for analysis\n",
    "data['day_of_week'] = data['date'].dt.day_name()\n",
    "data['month_year'] = data['date'].dt.to_period('M')\n",
    "print(data[['date', 'day_of_week', 'month_year']].head())\n",
    "# This code calculates the total number of articles published on each day of the week.\n",
    "articles_per_day = data['day_of_week'].value_counts()\n",
    "print(\"\\nNumber of Articles Published Per Day of the Week:\")\n",
    "print(articles_per_day)\n",
    "\n",
    "# Calculate the number of articles published for each month and year\n",
    "articles_per_month_year = data['month_year'].value_counts().sort_index()\n",
    "print(\"\\nNumber of Articles Published Per Month-Year:\")\n",
    "print(articles_per_month_year)"
   ]
  },
  {
   "cell_type": "code",
   "execution_count": 8,
   "metadata": {},
   "outputs": [
    {
     "data": {
      "image/png": "[encoded data removed]",
      "text/plain": [
       "<Figure size 1200x600 with 1 Axes>"
      ]
     },
     "metadata": {},
     "output_type": "display_data"
    }
   ],
   "source": [
    "import matplotlib.pyplot as plt\n",
    "\n",
    "# This code converts the 'month_year' index to a datetime format to enable accurate time series plotting.\n",
    "articles_per_month_year.index = articles_per_month_year.index.to_timestamp()\n",
    "\n",
    "# This code generates a time series line plot to visualize the number of articles published each month\n",
    "\n",
    "plt.figure(figsize=(12, 6))\n",
    "plt.plot(articles_per_month_year.index, articles_per_month_year.values, marker='o', linestyle='-', color='skyblue')\n",
    "plt.title('Number of Articles Published Over Time (Month-Year)', fontsize=14)\n",
    "plt.xlabel('Date', fontsize=12)\n",
    "plt.ylabel('Number of Articles', fontsize=12)\n",
    "plt.grid(True)\n",
    "plt.xticks(rotation=45)\n",
    "plt.tight_layout()\n",
    "\n",
    "# Save the plot \n",
    "plt.savefig('articles_published_over_time.png', format='png', dpi=300)  \n",
    "\n",
    "# Show the plot\n",
    "plt.show()"
   ]
  }
 ],
 "metadata": {
  "kernelspec": {
   "display_name": ".venv",
   "language": "python",
   "name": "python3"
  },
  "language_info": {
   "codemirror_mode": {
    "name": "ipython",
    "version": 3
   },
   "file_extension": ".py",
   "mimetype": "text/x-python",
   "name": "python",
   "nbconvert_exporter": "python",
   "pygments_lexer": "ipython3",
   "version": "3.12.5"
  }
 },
 "nbformat": 4,
 "nbformat_minor": 2
}
